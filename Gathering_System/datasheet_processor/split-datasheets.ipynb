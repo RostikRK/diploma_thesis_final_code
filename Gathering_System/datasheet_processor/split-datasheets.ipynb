{
 "metadata": {
  "kernelspec": {
   "name": "python3",
   "display_name": "Python 3",
   "language": "python"
  },
  "language_info": {
   "name": "python",
   "version": "3.10.12",
   "mimetype": "text/x-python",
   "codemirror_mode": {
    "name": "ipython",
    "version": 3
   },
   "pygments_lexer": "ipython3",
   "nbconvert_exporter": "python",
   "file_extension": ".py"
  },
  "colab": {
   "provenance": [],
   "gpuType": "V28"
  },
  "accelerator": "TPU",
  "kaggle": {
   "accelerator": "none",
   "dataSources": [],
   "dockerImageVersionId": 30918,
   "isInternetEnabled": true,
   "language": "python",
   "sourceType": "notebook",
   "isGpuEnabled": false
  }
 },
 "nbformat_minor": 5,
 "nbformat": 4,
 "cells": [
  {
   "id": "3fb0c727-1f08-4086-8770-d6cf78efca95",
   "cell_type": "markdown",
   "source": [
    "# Imports"
   ],
   "metadata": {}
  },
  {
   "id": "initial_id",
   "cell_type": "code",
   "source": [
    "from neo4j import GraphDatabase\n",
    "import os\n",
    "import random\n",
    "import pymupdf\n",
    "import pymupdf4llm\n",
    "from tqdm import tqdm\n",
    "import weaviate\n",
    "from helpers.md_processing import create_directories, extract_header_info_wev, process_page_images\n",
    "from helpers.download_utils import advanced_pdf_download\n",
    "import shutil"
   ],
   "metadata": {
    "colab": {
     "base_uri": "https://localhost:8080/",
     "height": 385
    },
    "id": "initial_id",
    "outputId": "42e08d95-ae5f-4f6a-a94c-071d510ebcc3",
    "trusted": true,
    "execution": {
     "iopub.status.busy": "2025-03-08T22:57:39.245887Z",
     "iopub.execute_input": "2025-03-08T22:57:39.246264Z",
     "iopub.status.idle": "2025-03-08T22:58:12.237881Z",
     "shell.execute_reply.started": "2025-03-08T22:57:39.246218Z",
     "shell.execute_reply": "2025-03-08T22:58:12.236355Z"
    }
   },
   "outputs": [],
   "execution_count": null
  },
  {
   "id": "a2d11e46-eab4-4e2b-a8eb-e726778ae5da",
   "cell_type": "markdown",
   "source": [
    "# Credentials"
   ],
   "metadata": {}
  },
  {
   "cell_type": "code",
   "execution_count": null,
   "outputs": [],
   "source": [
    "uri = \"bolt://localhost:7687\"\n",
    "username = \"neo4j\"\n",
    "password = \"password1234\"\n",
    "\n",
    "weaviate_client = weaviate.connect_to_local(skip_init_checks=True)\n",
    "driver = GraphDatabase.driver(uri, auth=(username, password))"
   ],
   "metadata": {
    "collapsed": false
   },
   "id": "aa371f744bfd9716"
  },
  {
   "id": "7d5d58e1-5899-431d-9b2b-f2fca302fd24",
   "cell_type": "markdown",
   "source": [
    "# Get the unchunked datasheets"
   ],
   "metadata": {}
  },
  {
   "id": "957bedff-b9b2-4da1-984e-af06ee23a40e",
   "cell_type": "code",
   "source": [
    "def get_datasheet_manufacturer_dict(driver):\n",
    "    query = \"\"\"\n",
    "    MATCH (c:Category)<-[:BELONGS_TO]-(p:Product)\n",
    "    MATCH (p:Product)-[:MANUFACTURED_BY]->(m:Manufacturer)\n",
    "    MATCH (p)-[r:HAS_DATASHEET]->(d:Datasheet)\n",
    "    WHERE r.state = \"Unprocessed\"\n",
    "    WITH d, c, collect(distinct m.name) as manufacturers, collect(distinct p.name) as products\n",
    "    RETURN d.name AS datasheet, c.name as category, manufacturers, products\n",
    "    \"\"\"\n",
    "    datasheet_dict = []\n",
    "    with driver.session() as session:\n",
    "        result = session.execute_read(lambda tx: tx.run(query).data())\n",
    "        for record in result:\n",
    "            datasheet_url = record[\"datasheet\"]\n",
    "            manufacturers = record[\"manufacturers\"]\n",
    "            products = record[\"products\"]\n",
    "            category_name = record[\"category\"]\n",
    "            datasheet_dict.append((datasheet_url, manufacturers, products, category_name))\n",
    "    return datasheet_dict\n",
    "\n",
    "def mark_datasheet_as_(driver, datasheet_url, status):\n",
    "    query = \"\"\"\n",
    "    MATCH (p:Product)-[r:HAS_DATASHEET]->(d:Datasheet)\n",
    "    WHERE d.name = $datasheet_url AND r.state<>\"Undownloadable\"\n",
    "    SET r.state = $status\n",
    "    \"\"\"\n",
    "    with driver.session() as session:\n",
    "        session.execute_write(lambda tx: tx.run(query, datasheet_url=datasheet_url, status=status))\n",
    "    print(f\"Marked datasheet {datasheet_url} as {status}.\")\n",
    "\n",
    "datasheet_manufacturer = get_datasheet_manufacturer_dict(driver)\n",
    "print(datasheet_manufacturer[0:5])"
   ],
   "metadata": {
    "trusted": true,
    "execution": {
     "iopub.status.busy": "2025-03-08T23:03:37.167073Z",
     "iopub.execute_input": "2025-03-08T23:03:37.167659Z",
     "iopub.status.idle": "2025-03-08T23:03:37.696872Z",
     "shell.execute_reply.started": "2025-03-08T23:03:37.167614Z",
     "shell.execute_reply": "2025-03-08T23:03:37.694929Z"
    }
   },
   "outputs": [],
   "execution_count": null
  },
  {
   "cell_type": "markdown",
   "source": [
    "### You can generate a small test sample"
   ],
   "metadata": {
    "collapsed": false
   },
   "id": "840495580a7311e"
  },
  {
   "id": "afc1044d-c8fd-4032-9896-52aa715eb5a3",
   "cell_type": "code",
   "source": [
    "n = 20\n",
    "li = random.sample(range(1, len(datasheet_manufacturer)), n)\n",
    "\n",
    "print(li) \n",
    "\n",
    "simple_list = list()\n",
    "for ind in li:\n",
    "    data = datasheet_manufacturer[ind]\n",
    "    if data[0] is not None:\n",
    "        simple_list.append(data)\n",
    "datasheet_manufacturer = simple_list\n",
    "\n",
    "datasheet_manufacturer"
   ],
   "metadata": {
    "trusted": true,
    "execution": {
     "iopub.status.busy": "2025-03-08T14:17:06.653011Z",
     "iopub.execute_input": "2025-03-08T14:17:06.653315Z",
     "iopub.status.idle": "2025-03-08T14:17:06.661145Z",
     "shell.execute_reply.started": "2025-03-08T14:17:06.653292Z",
     "shell.execute_reply": "2025-03-08T14:17:06.660288Z"
    }
   },
   "outputs": [],
   "execution_count": null
  },
  {
   "cell_type": "code",
   "execution_count": null,
   "outputs": [],
   "source": [
    "items = []\n",
    "\n",
    "def process_datasheets_in_batches(datasheet_manufacturer, driver, weaviate_client, items, batch_size=10):\n",
    "    total_datasheets = len(datasheet_manufacturer)\n",
    "    \n",
    "    for batch_start in range(0, total_datasheets, batch_size):\n",
    "        batch_end = min(batch_start + batch_size, total_datasheets)\n",
    "        batch = datasheet_manufacturer[batch_start:batch_end]\n",
    "        \n",
    "        print(f\"Processing batch {batch_start//batch_size + 1} ({batch_start}-{batch_end-1} of {total_datasheets})\")\n",
    "        \n",
    "        # Download PDFs for this batch\n",
    "        for ind, data in enumerate(batch, start=batch_start):\n",
    "            datasheet_url, manufacturer, product,  category = data\n",
    "            pdf_filename = f\"{str(ind)}.pdf\"\n",
    "            \n",
    "            initial_url = datasheet_url\n",
    "            if initial_url.startswith('//'):\n",
    "                initial_url = \"https:\" + initial_url\n",
    "            \n",
    "            success = advanced_pdf_download(initial_url, pdf_filename)\n",
    "            \n",
    "            if not success:\n",
    "                print(f\"Unable to download datasheet from URL: {initial_url}\")\n",
    "                mark_datasheet_as_(driver, datasheet_url, \"Undownloadable\")\n",
    "                continue\n",
    "        \n",
    "        # Process the PDFs that were successfully downloaded\n",
    "        for ind, data in enumerate(batch, start=batch_start):\n",
    "            datasheet_url, manufacturers, products, category = data\n",
    "            pdf_filename = f\"{str(ind)}.pdf\"\n",
    "            \n",
    "            if not os.path.exists(pdf_filename):\n",
    "                continue\n",
    "                \n",
    "            try:\n",
    "                doc = pymupdf.open(pdf_filename)\n",
    "                md_text = pymupdf4llm.to_markdown(pdf_filename)\n",
    "                num_pages = len(doc)\n",
    "                base_dir = f\"./data_{str(ind)}\"\n",
    "                create_directories(base_dir)\n",
    "                \n",
    "                extract_header_info_wev(\n",
    "                    md_text,\n",
    "                    base_dir,\n",
    "                    pdf_filename,\n",
    "                    items,\n",
    "                    manufacturers,\n",
    "                    products,\n",
    "                    weaviate_client,\n",
    "                    datasheet_url=datasheet_url,\n",
    "                )\n",
    "                \n",
    "                for page_num in tqdm(range(num_pages), desc=f\"Processing PDF {ind} pages\"):\n",
    "                    page = doc[page_num]\n",
    "                    process_page_images(\n",
    "                        page, page_num, base_dir, items,\n",
    "                        save_to_storage=True,\n",
    "                        data=data\n",
    "                    )\n",
    "                \n",
    "                mark_datasheet_as_(driver, datasheet_url, \"Chunked\")\n",
    "                doc.close()\n",
    "                os.remove(pdf_filename)\n",
    "                shutil.rmtree(base_dir)\n",
    "                \n",
    "            except Exception as e:\n",
    "                print(f\"Error processing PDF {ind}: {str(e)}\")\n",
    "                mark_datasheet_as_(driver, datasheet_url, \"ProcessingError\")\n",
    "        \n",
    "        print(f\"Completed batch {batch_start//batch_size + 1}\")\n",
    "\n",
    "process_datasheets_in_batches(datasheet_manufacturer, driver, weaviate_client, items, batch_size=2)\n",
    "\n",
    "driver.close()"
   ],
   "metadata": {
    "collapsed": false
   },
   "id": "a976c3249f3d3edb"
  },
  {
   "cell_type": "code",
   "outputs": [],
   "source": [],
   "metadata": {
    "collapsed": false
   },
   "id": "3af667d2772b9056"
  }
 ]
}
