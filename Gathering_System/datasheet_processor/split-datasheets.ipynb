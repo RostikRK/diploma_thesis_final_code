{
 "metadata": {
  "kernelspec": {
   "name": "python3",
   "display_name": "Python 3",
   "language": "python"
  },
  "language_info": {
   "name": "python",
   "version": "3.10.12",
   "mimetype": "text/x-python",
   "codemirror_mode": {
    "name": "ipython",
    "version": 3
   },
   "pygments_lexer": "ipython3",
   "nbconvert_exporter": "python",
   "file_extension": ".py"
  },
  "colab": {
   "provenance": [],
   "gpuType": "V28"
  },
  "accelerator": "TPU",
  "kaggle": {
   "accelerator": "none",
   "dataSources": [],
   "dockerImageVersionId": 30918,
   "isInternetEnabled": true,
   "language": "python",
   "sourceType": "notebook",
   "isGpuEnabled": false
  }
 },
 "nbformat_minor": 5,
 "nbformat": 4,
 "cells": [
  {
   "id": "3fb0c727-1f08-4086-8770-d6cf78efca95",
   "cell_type": "markdown",
   "source": [
    "# Imports"
   ],
   "metadata": {}
  },
  {
   "id": "initial_id",
   "cell_type": "code",
   "source": [
    "from neo4j import GraphDatabase\n",
    "import os\n",
    "import random\n",
    "import pymupdf\n",
    "import pymupdf4llm\n",
    "from tqdm import tqdm\n",
    "import weaviate\n",
    "from helpers.md_processing import create_directories, extract_header_info_wev, process_page_images\n",
    "from helpers.download_utils import advanced_pdf_download\n",
    "import shutil"
   ],
   "metadata": {
    "colab": {
     "base_uri": "https://localhost:8080/",
     "height": 385
    },
    "id": "initial_id",
    "outputId": "42e08d95-ae5f-4f6a-a94c-071d510ebcc3",
    "trusted": true,
    "execution": {
     "iopub.status.busy": "2025-03-08T22:57:39.245887Z",
     "iopub.execute_input": "2025-03-08T22:57:39.246264Z",
     "iopub.status.idle": "2025-03-08T22:58:12.237881Z",
     "shell.execute_reply.started": "2025-03-08T22:57:39.246218Z",
     "shell.execute_reply": "2025-03-08T22:58:12.236355Z"
    },
    "ExecuteTime": {
     "end_time": "2025-04-28T10:58:14.284490Z",
     "start_time": "2025-04-28T10:58:02.182372Z"
    }
   },
   "outputs": [],
   "execution_count": 1
  },
  {
   "id": "a2d11e46-eab4-4e2b-a8eb-e726778ae5da",
   "cell_type": "markdown",
   "source": [
    "# Credentials"
   ],
   "metadata": {}
  },
  {
   "cell_type": "code",
   "execution_count": 2,
   "outputs": [],
   "source": [
    "uri = \"bolt://localhost:7687\"\n",
    "username = \"neo4j\"\n",
    "password = \"password1234\"\n",
    "\n",
    "weaviate_client = weaviate.connect_to_local(skip_init_checks=True)\n",
    "driver = GraphDatabase.driver(uri, auth=(username, password))"
   ],
   "metadata": {
    "collapsed": false,
    "ExecuteTime": {
     "end_time": "2025-04-28T10:58:16.176207Z",
     "start_time": "2025-04-28T10:58:15.364960Z"
    }
   },
   "id": "aa371f744bfd9716"
  },
  {
   "id": "7d5d58e1-5899-431d-9b2b-f2fca302fd24",
   "cell_type": "markdown",
   "source": [
    "# Get the unchunked datasheets"
   ],
   "metadata": {}
  },
  {
   "id": "957bedff-b9b2-4da1-984e-af06ee23a40e",
   "cell_type": "code",
   "source": [
    "def get_datasheet_manufacturer_dict(driver):\n",
    "    query = \"\"\"\n",
    "    MATCH (c:Category)<-[:BELONGS_TO]-(p:Product)\n",
    "    MATCH (p:Product)-[:MANUFACTURED_BY]->(m:Manufacturer)\n",
    "    MATCH (p)-[r:HAS_DATASHEET]->(d:Datasheet)\n",
    "    WHERE r.state = \"Unprocessed\"\n",
    "    WITH d, c, collect(distinct m.name) as manufacturers, collect(distinct p.name) as products\n",
    "    RETURN d.name AS datasheet, c.name as category, manufacturers, products\n",
    "    \"\"\"\n",
    "    datasheet_dict = []\n",
    "    with driver.session() as session:\n",
    "        result = session.execute_read(lambda tx: tx.run(query).data())\n",
    "        for record in result:\n",
    "            datasheet_url = record[\"datasheet\"]\n",
    "            manufacturers = record[\"manufacturers\"]\n",
    "            products = record[\"products\"]\n",
    "            category_name = record[\"category\"]\n",
    "            datasheet_dict.append((datasheet_url, manufacturers, products, category_name))\n",
    "    return datasheet_dict\n",
    "\n",
    "def mark_datasheet_as_(driver, datasheet_url, status):\n",
    "    query = \"\"\"\n",
    "    MATCH (p:Product)-[r:HAS_DATASHEET]->(d:Datasheet)\n",
    "    WHERE d.name = $datasheet_url AND r.state<>\"Undownloadable\"\n",
    "    SET r.state = $status\n",
    "    \"\"\"\n",
    "    with driver.session() as session:\n",
    "        session.execute_write(lambda tx: tx.run(query, datasheet_url=datasheet_url, status=status))\n",
    "    print(f\"Marked datasheet {datasheet_url} as {status}.\")\n",
    "\n",
    "datasheet_manufacturer = get_datasheet_manufacturer_dict(driver)\n",
    "print(datasheet_manufacturer[0:5])"
   ],
   "metadata": {
    "trusted": true,
    "execution": {
     "iopub.status.busy": "2025-03-08T23:03:37.167073Z",
     "iopub.execute_input": "2025-03-08T23:03:37.167659Z",
     "iopub.status.idle": "2025-03-08T23:03:37.696872Z",
     "shell.execute_reply.started": "2025-03-08T23:03:37.167614Z",
     "shell.execute_reply": "2025-03-08T23:03:37.694929Z"
    },
    "ExecuteTime": {
     "end_time": "2025-04-28T10:58:23.788539Z",
     "start_time": "2025-04-28T10:58:16.932186Z"
    }
   },
   "outputs": [
    {
     "name": "stdout",
     "output_type": "stream",
     "text": [
      "[('https://rocelec.widen.net/view/pdf/0e4apuiify/INTLS03195-1.pdf?t.download=true&u=5oefqw', ['Altera'], ['N28F256A150'], 'Memory'), ('https://www.gigadevice.com.cn/Public/Uploads/uploadfile/files/20220714/DS-00353-GD25D05C-Rev1.6.pdf', ['GigaDevice Semiconductor (HK) Limited'], ['GD25D10CTIG', 'GD25D10CKIGR', 'GD25D10CEIGR', 'GD25D10CTIGR', 'GD25D05CTIG', 'GD25D05CEIGR', 'GD25D05CKIGR', 'GD25D05CTIGR'], 'Memory'), ('https://www.byte-semi.com/download/SPI_NOR_Flash/BY25D05AS.pdf', ['BYTe Semiconductor'], ['BY25D05ASOIG(R)', 'BY25D05ASTIG(R)', 'BY25D05ASOIG(T)', 'BY25D05ASMIG(R)', 'BY25D05ASTIG(T)'], 'Memory'), ('https://mm.digikey.com/Volume0/opasdata/d220001/medias/docus/5050/2023__Gde.pdf', ['GigaDevice Semiconductor (HK) Limited'], ['GD25VE20CTIG', 'GD25VE20CSIG', 'GD25VQ20CTIG', 'GD25VQ20CSIG', 'GD25LQ20CTIG', 'GD25Q20ETIGR', 'GD25Q20ESIGR', 'GD25WD10CEIGR', 'GD25WD10CTIGR', 'GD25LQ10CEIGR', 'GD25LQ10CTIGR', 'GD25LD10CEIGR', 'GD25LD10CTIGR', 'GD25WD05CTIG', 'GD25WD05CTIGR', 'GD25WD05CEIGR', 'GD25LQ05CEIGR', 'GD25LQ05CTIGR', 'GD25LD05CEIGR', 'GD25LD05CTIGR'], 'Memory'), ('https://www.gigadevice.com.cn/Public/Uploads/uploadfile/files/20220714/DS-00340-GD25LD05C-Rev1.4.pdf', ['GigaDevice Semiconductor (HK) Limited'], ['GD25LD10CKIGR', 'GD25LD05CKIGR'], 'Memory')]\n"
     ]
    }
   ],
   "execution_count": 3
  },
  {
   "cell_type": "markdown",
   "source": [
    "### You can generate a small test sample"
   ],
   "metadata": {
    "collapsed": false
   },
   "id": "840495580a7311e"
  },
  {
   "id": "afc1044d-c8fd-4032-9896-52aa715eb5a3",
   "cell_type": "code",
   "source": [
    "n = 20\n",
    "li = random.sample(range(1, len(datasheet_manufacturer)), n)\n",
    "\n",
    "print(li) \n",
    "\n",
    "simple_list = list()\n",
    "for ind in li:\n",
    "    data = datasheet_manufacturer[ind]\n",
    "    if data[0] is not None:\n",
    "        simple_list.append(data)\n",
    "datasheet_manufacturer = simple_list\n",
    "\n",
    "datasheet_manufacturer"
   ],
   "metadata": {
    "trusted": true,
    "execution": {
     "iopub.status.busy": "2025-03-08T14:17:06.653011Z",
     "iopub.execute_input": "2025-03-08T14:17:06.653315Z",
     "iopub.status.idle": "2025-03-08T14:17:06.661145Z",
     "shell.execute_reply.started": "2025-03-08T14:17:06.653292Z",
     "shell.execute_reply": "2025-03-08T14:17:06.660288Z"
    },
    "ExecuteTime": {
     "end_time": "2025-04-28T10:32:34.531291Z",
     "start_time": "2025-04-28T10:32:34.518540Z"
    }
   },
   "outputs": [
    {
     "name": "stdout",
     "output_type": "stream",
     "text": [
      "[9, 17, 18, 1, 24, 14, 10, 2, 6, 8, 4, 21, 23, 20, 12, 7, 25, 15, 5, 13]\n"
     ]
    },
    {
     "data": {
      "text/plain": "[('https://www.analog.com/media/en/technical-documentation/data-sheets/LTC2875.pdf',\n  ['Analog Devices Inc.'],\n  ['LTC2875MPDD#TRPBF',\n   'LTC2875MPDD#PBF',\n   'LTC2875HDD#PBF',\n   'LTC2875HDD#TRPBF',\n   'LTC2875IDD#TRPBF',\n   'LTC2875IDD#PBF'],\n  'Transceivers'),\n ('https://static.3peak.com/res/doc/ds/Datasheet_TPT1042-TPT1042V.pdf',\n  ['3PEAK'],\n  ['TPT1042V-DF6R-S', 'TPT1042-DF6R-S'],\n  'Transceivers'),\n ('https://static.3peak.com/res/doc/ds/Datasheet_TPT1042-TPT1042V.pdf',\n  ['3PEAK'],\n  ['TPT1042-DF6R-S'],\n  'Drivers, Receivers, Transceivers'),\n ('https://www.gigadevice.com.cn/Public/Uploads/uploadfile/files/20230926/DS-00803-GD25D20E-Rev1.0.pdf',\n  ['GigaDevice Semiconductor (HK) Limited'],\n  ['GD25D20EKIGR', 'GD25D20ETIGR', 'GD25D20EEIGR'],\n  'Memory'),\n ('https://static.3peak.com/res/doc/ds/Datasheet_TPT1029Q.pdf',\n  ['3PEAK'],\n  ['TPT1029Q-DFCR-S'],\n  'Transceivers'),\n ('https://www.analog.com/media/en/technical-documentation/data-sheets/28767fa.pdf',\n  ['Analog Devices Inc.'],\n  ['LTC2876HDD#PBF', 'LTC2876CDD#PBF', 'LTC2876IDD#PBF'],\n  'Drivers, Receivers, Transceivers'),\n ('https://www.analog.com/media/en/technical-documentation/data-sheets/LTC2875.pdf',\n  ['Analog Devices Inc.'],\n  ['LTC2875MPDD#PBF',\n   'LTC2875HDD#PBF',\n   'LTC2875HDD#TRPBF',\n   'LTC2875IDD#TRPBF',\n   'LTC2875IDD#PBF'],\n  'Drivers, Receivers, Transceivers'),\n ('https://www.gigadevice.com.cn/Public/Uploads/uploadfile/files/20230926/DS-00849-GD25LD20E-Rev1.2.pdf',\n  ['GigaDevice Semiconductor (HK) Limited'],\n  ['GD25LD20EEIGR', 'GD25LD20EKIGR', 'GD25LD20ETIGR'],\n  'Memory'),\n ('https://www.analog.com/media/en/technical-documentation/data-sheets/2862345fc.pdf',\n  ['Analog Devices Inc.'],\n  ['LTC2862CDD-2#PBF',\n   'LTC2863CDD-2#PBF',\n   'LTC2863HDD-2#PBF',\n   'LTC2863CDD-1#PBF',\n   'LTC2862IDD-2#TRPBF',\n   'LTC2862IDD-2#PBF',\n   'LTC2862HDD-2#PBF',\n   'LTC2862CDD-1#PBF',\n   'LTC2862HDD-1#PBF',\n   'LTC2862IDD-1#TRPBF',\n   'LTC2862IDD-1#PBF',\n   'LTC2862HDD-1#TRPBF',\n   'LTC2863HDD-1#PBF',\n   'LTC2863IDD-2#PBF',\n   'LTC2863IDD-1#TRPBF',\n   'LTC2863IDD-1#PBF'],\n  'Drivers, Receivers, Transceivers'),\n ('https://www.analog.com/media/en/technical-documentation/data-sheets/ltc2862a.pdf',\n  ['Analog Devices Inc.'],\n  ['LTC2862AIDD-1#PBF',\n   'LTC2862ACDD-2#PBF',\n   'LTC2862ACDD-1#PBF',\n   'LTC2862AHDD-2#PBF',\n   'LTC2862AIDD-2#PBF',\n   'LTC2862AHDD-1#PBF',\n   'LTC2862AIDD-1#TRPBF'],\n  'Drivers, Receivers, Transceivers'),\n ('https://www.gigadevice.com.cn/Public/Uploads/uploadfile/files/20231213/DS-00872-GD25WD40E-Rev1.4.pdf',\n  ['GigaDevice Semiconductor (HK) Limited'],\n  ['GD25WD20EEIGR', 'GD25WD20EKIGR', 'GD25WD20ETIGR'],\n  'Memory'),\n ('https://static.3peak.com/res/doc/ds/Datasheet_TPT75176H.pdf',\n  ['3PEAK'],\n  ['TPT75176HL1-DF6R'],\n  'Transceivers'),\n ('https://static.3peak.com/res/doc/ds/Datasheet_TPT1042Q-TPT1042VQ.pdf',\n  ['3PEAK'],\n  ['TPT1042VQ-DF6R-S'],\n  'Transceivers'),\n ('https://static.3peak.com/res/doc/ds/Datasheet_TPT1021Q.pdf',\n  ['3PEAK'],\n  ['TPT1021Q-DFCR-S'],\n  'Drivers, Receivers, Transceivers'),\n ('https://www.analog.com/media/en/technical-documentation/data-sheets/285678fg.pdf',\n  ['Analog Devices Inc.'],\n  ['LTC2857HDD-2#PBF',\n   'LTC2856HDD-1#PBF',\n   'LTC2856CDD-1#PBF',\n   'LTC2856CDD-2#PBF',\n   'LTC2856IDD-1#PBF',\n   'LTC2856HDD-2#PBF',\n   'LTC2856IDD-2#PBF',\n   'LTC2857IDD-1#PBF',\n   'LTC2857HDD-1#PBF'],\n  'Drivers, Receivers, Transceivers'),\n ('https://www.analog.com/media/en/technical-documentation/data-sheets/ltc2862a.pdf',\n  ['Analog Devices Inc.'],\n  ['LTC2862AHDD-2#TRPBF',\n   'LTC2862AHDD-1#TRPBF',\n   'LTC2862ACDD-2#TRPBF',\n   'LTC2862ACDD-1#TRPBF',\n   'LTC2862AIDD-2#TRPBF',\n   'LTC2862AIDD-1#PBF',\n   'LTC2862ACDD-2#PBF',\n   'LTC2862ACDD-1#PBF',\n   'LTC2862AHDD-2#PBF',\n   'LTC2862AIDD-2#PBF',\n   'LTC2862AHDD-1#PBF',\n   'LTC2862AIDD-1#TRPBF'],\n  'Transceivers'),\n ('https://static.3peak.com/res/doc/ds/Datasheet_TPT1051Q-TPT1051VQ.pdf',\n  ['3PEAK'],\n  ['TPT1051VQ-DF6R-S', 'TPT1051Q-DF6R-S'],\n  'Transceivers'),\n ('https://static.3peak.com/res/doc/ds/Datasheet_TPT1255-TPT1256.pdf',\n  ['3PEAK'],\n  ['TPT1256-DF6R', 'TPT1255-DF6R'],\n  'Transceivers'),\n ('https://www.analog.com/media/en/technical-documentation/data-sheets/2862345fc.pdf',\n  ['Analog Devices Inc.'],\n  ['LTC2862CDD-2#TRPBF',\n   'LTC2862CDD-1#TRPBF',\n   'LTC2862HDD-2#TRPBF',\n   'LTC2863IDD-2#TRPBF',\n   'LTC2863HDD-2#TRPBF',\n   'LTC2863HDD-1#TRPBF',\n   'LTC2863CDD-2#TRPBF',\n   'LTC2863CDD-1#TRPBF',\n   'LTC2862CDD-2#PBF',\n   'LTC2863CDD-2#PBF',\n   'LTC2863HDD-2#PBF',\n   'LTC2863CDD-1#PBF',\n   'LTC2862IDD-2#TRPBF',\n   'LTC2862IDD-2#PBF',\n   'LTC2862HDD-2#PBF',\n   'LTC2862CDD-1#PBF',\n   'LTC2862HDD-1#PBF',\n   'LTC2862IDD-1#TRPBF',\n   'LTC2862IDD-1#PBF',\n   'LTC2862HDD-1#TRPBF',\n   'LTC2863HDD-1#PBF',\n   'LTC2863IDD-2#PBF',\n   'LTC2863IDD-1#TRPBF',\n   'LTC2863IDD-1#PBF'],\n  'Transceivers'),\n ('https://www.analog.com/media/en/technical-documentation/data-sheets/28767fa.pdf',\n  ['Analog Devices Inc.'],\n  ['LTC2876HDD#TRPBF',\n   'LTC2876IDD#TRPBF',\n   'LTC2876CDD#TRPBF',\n   'LTC2876HDD#PBF',\n   'LTC2876CDD#PBF',\n   'LTC2876IDD#PBF'],\n  'Transceivers')]"
     },
     "execution_count": 4,
     "metadata": {},
     "output_type": "execute_result"
    }
   ],
   "execution_count": 4
  },
  {
   "cell_type": "code",
   "execution_count": 4,
   "outputs": [
    {
     "name": "stdout",
     "output_type": "stream",
     "text": [
      "Processing batch 1 (0-1 of 57)\n",
      "Downloaded file as 0.pdf\n",
      "0.pdf is invalid or too small. Marking download as failed.\n",
      "Found PDF link: https://rocelec.widen.net/content/0e4apuiify/original/INTLS03195-1.pdf?u=5oefqw&download=true\n",
      "[Viewer] Downloaded file as 0.pdf\n",
      "Downloaded file as 1.pdf\n"
     ]
    },
    {
     "name": "stderr",
     "output_type": "stream",
     "text": [
      "Processing PDF 0 pages: 100%|██████████| 21/21 [00:12<00:00,  1.73it/s]\n"
     ]
    },
    {
     "name": "stdout",
     "output_type": "stream",
     "text": [
      "Marked datasheet https://rocelec.widen.net/view/pdf/0e4apuiify/INTLS03195-1.pdf?t.download=true&u=5oefqw as Chunked.\n"
     ]
    },
    {
     "name": "stderr",
     "output_type": "stream",
     "text": [
      "Processing PDF 1 pages: 100%|██████████| 42/42 [00:28<00:00,  1.50it/s]\n"
     ]
    },
    {
     "name": "stdout",
     "output_type": "stream",
     "text": [
      "Marked datasheet https://www.gigadevice.com.cn/Public/Uploads/uploadfile/files/20220714/DS-00353-GD25D05C-Rev1.6.pdf as Chunked.\n",
      "Completed batch 1\n",
      "Processing batch 2 (2-3 of 57)\n",
      "Downloaded file as 2.pdf\n",
      "Downloaded file as 3.pdf\n"
     ]
    },
    {
     "ename": "KeyboardInterrupt",
     "evalue": "",
     "output_type": "error",
     "traceback": [
      "\u001B[31m---------------------------------------------------------------------------\u001B[39m",
      "\u001B[31mKeyboardInterrupt\u001B[39m                         Traceback (most recent call last)",
      "\u001B[32m~\\AppData\\Local\\Temp\\ipykernel_48012\\1557918291.py\u001B[39m in \u001B[36m?\u001B[39m\u001B[34m()\u001B[39m\n\u001B[32m     69\u001B[39m                 mark_datasheet_as_(driver, datasheet_url, \u001B[33m\"ProcessingError\"\u001B[39m)\n\u001B[32m     70\u001B[39m \n\u001B[32m     71\u001B[39m         print(f\"Completed batch {batch_start//batch_size + \u001B[32m1\u001B[39m}\")\n\u001B[32m     72\u001B[39m \n\u001B[32m---> \u001B[39m\u001B[32m73\u001B[39m process_datasheets_in_batches(datasheet_manufacturer, driver, weaviate_client, items, batch_size=\u001B[32m2\u001B[39m)\n\u001B[32m     74\u001B[39m \n\u001B[32m     75\u001B[39m driver.close()\n",
      "\u001B[32m~\\AppData\\Local\\Temp\\ipykernel_48012\\1557918291.py\u001B[39m in \u001B[36m?\u001B[39m\u001B[34m(datasheet_manufacturer, driver, weaviate_client, items, batch_size)\u001B[39m\n\u001B[32m     63\u001B[39m                 doc.close()\n\u001B[32m     64\u001B[39m                 os.remove(pdf_filename)\n\u001B[32m     65\u001B[39m                 shutil.rmtree(base_dir)\n\u001B[32m     66\u001B[39m \n\u001B[32m---> \u001B[39m\u001B[32m67\u001B[39m             \u001B[38;5;28;01mexcept\u001B[39;00m Exception \u001B[38;5;28;01mas\u001B[39;00m e:\n\u001B[32m     68\u001B[39m                 print(f\"Error processing PDF {ind}: {str(e)}\")\n\u001B[32m     69\u001B[39m                 mark_datasheet_as_(driver, datasheet_url, \u001B[33m\"ProcessingError\"\u001B[39m)\n\u001B[32m     70\u001B[39m \n",
      "\u001B[32m~\\OneDrive - Renesas Electronics Corporation\\Documents\\API_Test\\Test_upload\\.venv\\Lib\\site-packages\\pymupdf4llm\\helpers\\pymupdf_rag.py\u001B[39m in \u001B[36m?\u001B[39m\u001B[34m(doc, pages, hdr_info, write_images, embed_images, ignore_images, ignore_graphics, image_path, image_format, image_size_limit, filename, force_text, page_chunks, margins, dpi, page_width, page_height, table_strategy, graphics_limit, fontsize_limit, ignore_code, extract_words, show_progress, use_glyphs)\u001B[39m\n\u001B[32m   1073\u001B[39m     \u001B[38;5;28;01mif\u001B[39;00m show_progress:\n\u001B[32m   1074\u001B[39m         print(f\"Processing {FILENAME}...\")\n\u001B[32m   1075\u001B[39m         pages = ProgressBar(pages)\n\u001B[32m   1076\u001B[39m     \u001B[38;5;28;01mfor\u001B[39;00m pno \u001B[38;5;28;01min\u001B[39;00m pages:\n\u001B[32m-> \u001B[39m\u001B[32m1077\u001B[39m         parms = get_page_output(\n\u001B[32m   1078\u001B[39m             doc, pno, margins, textflags, FILENAME, IGNORE_IMAGES, IGNORE_GRAPHICS\n\u001B[32m   1079\u001B[39m         )\n\u001B[32m   1080\u001B[39m         \u001B[38;5;28;01mif\u001B[39;00m page_chunks \u001B[38;5;28;01mis\u001B[39;00m \u001B[38;5;28;01mFalse\u001B[39;00m:\n",
      "\u001B[32m~\\OneDrive - Renesas Electronics Corporation\\Documents\\API_Test\\Test_upload\\.venv\\Lib\\site-packages\\pymupdf4llm\\helpers\\pymupdf_rag.py\u001B[39m in \u001B[36m?\u001B[39m\u001B[34m(doc, pno, margins, textflags, FILENAME, IGNORE_IMAGES, IGNORE_GRAPHICS)\u001B[39m\n\u001B[32m    978\u001B[39m \n\u001B[32m    979\u001B[39m         parms.vg_clusters = dict((i, r) \u001B[38;5;28;01mfor\u001B[39;00m i, r \u001B[38;5;28;01min\u001B[39;00m enumerate(parms.vg_clusters0))\n\u001B[32m    980\u001B[39m \n\u001B[32m    981\u001B[39m         \u001B[38;5;66;03m# identify text bboxes on page, avoiding tables, images and graphics\u001B[39;00m\n\u001B[32m--> \u001B[39m\u001B[32m982\u001B[39m         text_rects = column_boxes(\n\u001B[32m    983\u001B[39m             parms.page,\n\u001B[32m    984\u001B[39m             paths=parms.actual_paths,\n\u001B[32m    985\u001B[39m             no_image_text=\u001B[38;5;28;01mnot\u001B[39;00m force_text,\n",
      "\u001B[32m~\\OneDrive - Renesas Electronics Corporation\\Documents\\API_Test\\Test_upload\\.venv\\Lib\\site-packages\\pymupdf4llm\\helpers\\multi_column.py\u001B[39m in \u001B[36m?\u001B[39m\u001B[34m(page, footer_margin, header_margin, no_image_text, textpage, paths, avoid, ignore_images)\u001B[39m\n\u001B[32m    376\u001B[39m \n\u001B[32m    377\u001B[39m     \u001B[38;5;66;03m# bboxes of images on page, no need to sort them\u001B[39;00m\n\u001B[32m    378\u001B[39m     \u001B[38;5;28;01mif\u001B[39;00m ignore_images \u001B[38;5;28;01mis\u001B[39;00m \u001B[38;5;28;01mFalse\u001B[39;00m:\n\u001B[32m    379\u001B[39m         \u001B[38;5;28;01mfor\u001B[39;00m item \u001B[38;5;28;01min\u001B[39;00m page.get_images():\n\u001B[32m--> \u001B[39m\u001B[32m380\u001B[39m             img_bboxes.extend(page.get_image_rects(item[\u001B[32m0\u001B[39m]))\n\u001B[32m    381\u001B[39m \n\u001B[32m    382\u001B[39m     \u001B[38;5;66;03m# blocks of text on page\u001B[39;00m\n\u001B[32m    383\u001B[39m     blocks = textpage.extractDICT()[\u001B[33m\"blocks\"\u001B[39m]\n",
      "\u001B[32m~\\OneDrive - Renesas Electronics Corporation\\Documents\\API_Test\\Test_upload\\.venv\\Lib\\site-packages\\pymupdf\\utils.py\u001B[39m in \u001B[36m?\u001B[39m\u001B[34m(page, name, transform)\u001B[39m\n\u001B[32m    886\u001B[39m         xref = imglist[\u001B[32m0\u001B[39m][\u001B[32m0\u001B[39m]\n\u001B[32m    887\u001B[39m     pix = pymupdf.Pixmap(page.parent, xref)  \u001B[38;5;66;03m# make pixmap of the image to compute MD5\u001B[39;00m\n\u001B[32m    888\u001B[39m     digest = pix.digest\n\u001B[32m    889\u001B[39m     \u001B[38;5;28;01mdel\u001B[39;00m pix\n\u001B[32m--> \u001B[39m\u001B[32m890\u001B[39m     infos = page.get_image_info(hashes=\u001B[38;5;28;01mTrue\u001B[39;00m)\n\u001B[32m    891\u001B[39m     \u001B[38;5;28;01mif\u001B[39;00m \u001B[38;5;28;01mnot\u001B[39;00m transform:\n\u001B[32m    892\u001B[39m         bboxes = [pymupdf.Rect(im[\u001B[33m\"bbox\"\u001B[39m]) \u001B[38;5;28;01mfor\u001B[39;00m im \u001B[38;5;28;01min\u001B[39;00m infos \u001B[38;5;28;01mif\u001B[39;00m im[\u001B[33m\"digest\"\u001B[39m] == digest]\n\u001B[32m    893\u001B[39m     \u001B[38;5;28;01melse\u001B[39;00m:\n",
      "\u001B[32m~\\OneDrive - Renesas Electronics Corporation\\Documents\\API_Test\\Test_upload\\.venv\\Lib\\site-packages\\pymupdf\\utils.py\u001B[39m in \u001B[36m?\u001B[39m\u001B[34m(page, hashes, xrefs)\u001B[39m\n\u001B[32m    840\u001B[39m     \u001B[38;5;28;01mif\u001B[39;00m imginfo \u001B[38;5;28;01mand\u001B[39;00m \u001B[38;5;28;01mnot\u001B[39;00m xrefs:\n\u001B[32m    841\u001B[39m         \u001B[38;5;28;01mreturn\u001B[39;00m imginfo\n\u001B[32m    842\u001B[39m     \u001B[38;5;28;01mif\u001B[39;00m \u001B[38;5;28;01mnot\u001B[39;00m imginfo:\n\u001B[32m    843\u001B[39m         tp = page.get_textpage(flags=pymupdf.TEXT_PRESERVE_IMAGES)\n\u001B[32m--> \u001B[39m\u001B[32m844\u001B[39m         imginfo = tp.extractIMGINFO(hashes=hashes)\n\u001B[32m    845\u001B[39m         \u001B[38;5;28;01mdel\u001B[39;00m tp\n\u001B[32m    846\u001B[39m         \u001B[38;5;28;01mif\u001B[39;00m hashes:\n\u001B[32m    847\u001B[39m             page._image_info = imginfo\n",
      "\u001B[32m~\\OneDrive - Renesas Electronics Corporation\\Documents\\API_Test\\Test_upload\\.venv\\Lib\\site-packages\\pymupdf\\__init__.py\u001B[39m in \u001B[36m?\u001B[39m\u001B[34m(self, hashes)\u001B[39m\n\u001B[32m  12631\u001B[39m             \u001B[38;5;28;01mif\u001B[39;00m hashes:\n\u001B[32m  12632\u001B[39m                 r = mupdf.FzIrect(FZ_MIN_INF_RECT, FZ_MIN_INF_RECT, FZ_MAX_INF_RECT, FZ_MAX_INF_RECT)\n\u001B[32m  12633\u001B[39m                 \u001B[38;5;28;01massert\u001B[39;00m mupdf.fz_is_infinite_irect(r)\n\u001B[32m  12634\u001B[39m                 m = mupdf.FzMatrix(img.w(), \u001B[32m0\u001B[39m, \u001B[32m0\u001B[39m, img.h(), \u001B[32m0\u001B[39m, \u001B[32m0\u001B[39m)\n\u001B[32m> \u001B[39m\u001B[32m12635\u001B[39m                 pix, w, h = mupdf.fz_get_pixmap_from_image(img, r, m)\n\u001B[32m  12636\u001B[39m                 digest = mupdf.fz_md5_pixmap2(pix)\n\u001B[32m  12637\u001B[39m                 digest = bytes(digest)\n\u001B[32m  12638\u001B[39m                 \u001B[38;5;28;01mif\u001B[39;00m img_size == \u001B[32m0\u001B[39m:\n",
      "\u001B[32m~\\OneDrive - Renesas Electronics Corporation\\Documents\\API_Test\\Test_upload\\.venv\\Lib\\site-packages\\pymupdf\\mupdf.py\u001B[39m in \u001B[36m?\u001B[39m\u001B[34m(image, subarea, ctm)\u001B[39m\n\u001B[32m  56890\u001B[39m     \"\"\"\n\u001B[32m  56891\u001B[39m     Class-aware helper \u001B[38;5;28;01mfor\u001B[39;00m out-params of fz_get_pixmap_from_image() [fz_get_pixmap_from_image()].\n\u001B[32m  56892\u001B[39m     \"\"\"\n\u001B[32m  56893\u001B[39m     ret, w, h = ll_fz_get_pixmap_from_image(image.m_internal, subarea.internal(), ctm.internal())\n\u001B[32m> \u001B[39m\u001B[32m56894\u001B[39m     \u001B[38;5;28;01mreturn\u001B[39;00m FzPixmap(ret), w, h\n",
      "\u001B[32m~\\OneDrive - Renesas Electronics Corporation\\Documents\\API_Test\\Test_upload\\.venv\\Lib\\site-packages\\pymupdf\\mupdf.py\u001B[39m in \u001B[36m?\u001B[39m\u001B[34m(self, *args)\u001B[39m\n\u001B[32m> \u001B[39m\u001B[32m30077\u001B[39m     \u001B[38;5;28;01mdef\u001B[39;00m __init__(self, *args):\n\u001B[32m  30078\u001B[39m         r\"\"\"\n\u001B[32m  30079\u001B[39m         *Overload \u001B[32m1\u001B[39m:*\n\u001B[32m  30080\u001B[39m          == Constructors.  Constructor using `fz_new_pixmap()`.\n",
      "\u001B[31mKeyboardInterrupt\u001B[39m: "
     ]
    }
   ],
   "source": [
    "items = []\n",
    "\n",
    "def process_datasheets_in_batches(datasheet_manufacturer, driver, weaviate_client, items, batch_size=10):\n",
    "    total_datasheets = len(datasheet_manufacturer)\n",
    "    \n",
    "    for batch_start in range(0, total_datasheets, batch_size):\n",
    "        batch_end = min(batch_start + batch_size, total_datasheets)\n",
    "        batch = datasheet_manufacturer[batch_start:batch_end]\n",
    "        \n",
    "        print(f\"Processing batch {batch_start//batch_size + 1} ({batch_start}-{batch_end-1} of {total_datasheets})\")\n",
    "        \n",
    "        # Download PDFs for this batch\n",
    "        for ind, data in enumerate(batch, start=batch_start):\n",
    "            datasheet_url, manufacturer, product,  category = data\n",
    "            pdf_filename = f\"{str(ind)}.pdf\"\n",
    "            \n",
    "            initial_url = datasheet_url\n",
    "            if initial_url.startswith('//'):\n",
    "                initial_url = \"https:\" + initial_url\n",
    "            \n",
    "            success = advanced_pdf_download(initial_url, pdf_filename)\n",
    "            \n",
    "            if not success:\n",
    "                print(f\"Unable to download datasheet from URL: {initial_url}\")\n",
    "                mark_datasheet_as_(driver, datasheet_url, \"Undownloadable\")\n",
    "                continue\n",
    "        \n",
    "        # Process the PDFs that were successfully downloaded\n",
    "        for ind, data in enumerate(batch, start=batch_start):\n",
    "            datasheet_url, manufacturers, products, category = data\n",
    "            pdf_filename = f\"{str(ind)}.pdf\"\n",
    "            \n",
    "            if not os.path.exists(pdf_filename):\n",
    "                continue\n",
    "                \n",
    "            try:\n",
    "                doc = pymupdf.open(pdf_filename)\n",
    "                md_text = pymupdf4llm.to_markdown(pdf_filename)\n",
    "                num_pages = len(doc)\n",
    "                base_dir = f\"./data_{str(ind)}\"\n",
    "                create_directories(base_dir)\n",
    "                \n",
    "                extract_header_info_wev(\n",
    "                    md_text,\n",
    "                    base_dir,\n",
    "                    pdf_filename,\n",
    "                    items,\n",
    "                    manufacturers,\n",
    "                    products,\n",
    "                    weaviate_client,\n",
    "                    datasheet_url=datasheet_url,\n",
    "                )\n",
    "                \n",
    "                for page_num in tqdm(range(num_pages), desc=f\"Processing PDF {ind} pages\"):\n",
    "                    page = doc[page_num]\n",
    "                    process_page_images(\n",
    "                        page, page_num, base_dir, items,\n",
    "                        save_to_storage=True,\n",
    "                        data=data\n",
    "                    )\n",
    "                \n",
    "                mark_datasheet_as_(driver, datasheet_url, \"Chunked\")\n",
    "                doc.close()\n",
    "                os.remove(pdf_filename)\n",
    "                shutil.rmtree(base_dir)\n",
    "                \n",
    "            except Exception as e:\n",
    "                print(f\"Error processing PDF {ind}: {str(e)}\")\n",
    "                mark_datasheet_as_(driver, datasheet_url, \"ProcessingError\")\n",
    "        \n",
    "        print(f\"Completed batch {batch_start//batch_size + 1}\")\n",
    "\n",
    "process_datasheets_in_batches(datasheet_manufacturer, driver, weaviate_client, items, batch_size=2)\n",
    "\n",
    "driver.close()"
   ],
   "metadata": {
    "collapsed": false,
    "ExecuteTime": {
     "end_time": "2025-04-28T11:00:45.365789Z",
     "start_time": "2025-04-28T10:58:27.798984Z"
    }
   },
   "id": "a976c3249f3d3edb"
  },
  {
   "cell_type": "code",
   "outputs": [],
   "source": [],
   "metadata": {
    "collapsed": false
   },
   "id": "3af667d2772b9056"
  }
 ]
}
